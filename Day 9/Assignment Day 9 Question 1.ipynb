{
 "cells": [
  {
   "cell_type": "code",
   "execution_count": 5,
   "metadata": {},
   "outputs": [],
   "source": [
    "#write a python function for finding is a given number prime or not and do unit testing on it using PyLint and Unittest library."
   ]
  },
  {
   "cell_type": "code",
   "execution_count": 4,
   "metadata": {},
   "outputs": [
    {
     "name": "stdout",
     "output_type": "stream",
     "text": [
      "Requirement already satisfied: pylint in c:\\users\\j-s\\appdata\\local\\continuum\\anaconda3\\lib\\site-packages (2.1.1)\n",
      "Requirement already satisfied: isort>=4.2.5 in c:\\users\\j-s\\appdata\\local\\continuum\\anaconda3\\lib\\site-packages (from pylint) (4.3.4)\n",
      "Requirement already satisfied: colorama; sys_platform == \"win32\" in c:\\users\\j-s\\appdata\\local\\continuum\\anaconda3\\lib\\site-packages (from pylint) (0.3.9)\n",
      "Requirement already satisfied: astroid>=2.0.0 in c:\\users\\j-s\\appdata\\local\\continuum\\anaconda3\\lib\\site-packages (from pylint) (2.0.4)\n",
      "Requirement already satisfied: mccabe in c:\\users\\j-s\\appdata\\local\\continuum\\anaconda3\\lib\\site-packages (from pylint) (0.6.1)\n",
      "Requirement already satisfied: six in c:\\users\\j-s\\appdata\\local\\continuum\\anaconda3\\lib\\site-packages (from astroid>=2.0.0->pylint) (1.11.0)\n",
      "Requirement already satisfied: lazy-object-proxy in c:\\users\\j-s\\appdata\\local\\continuum\\anaconda3\\lib\\site-packages (from astroid>=2.0.0->pylint) (1.3.1)\n",
      "Requirement already satisfied: wrapt in c:\\users\\j-s\\appdata\\local\\continuum\\anaconda3\\lib\\site-packages (from astroid>=2.0.0->pylint) (1.10.11)\n"
     ]
    }
   ],
   "source": [
    "#download pylint\n",
    "! pip install pylint"
   ]
  },
  {
   "cell_type": "code",
   "execution_count": 23,
   "metadata": {},
   "outputs": [
    {
     "name": "stdout",
     "output_type": "stream",
     "text": [
      "Overwriting prime.py\n"
     ]
    }
   ],
   "source": [
    "%%writefile prime.py\n",
    "#function to check for prime num.\n",
    "def prime(inputno):\n",
    "    if inputno >= 1:\n",
    "        for i in range(2, inputno):\n",
    "            if (inputno % i) == 0:\n",
    "                result = \"Number is not a Prime\"\n",
    "            else:\n",
    "                result = \"Number is Prime\"\n",
    "    else:\n",
    "        result = \"Number is not a Prime\"\n",
    "    return result"
   ]
  },
  {
   "cell_type": "code",
   "execution_count": 24,
   "metadata": {},
   "outputs": [
    {
     "name": "stdout",
     "output_type": "stream",
     "text": [
      "************* Module prime\n",
      "prime.py:11:0: C0304: Final newline missing (missing-final-newline)\n",
      "prime.py:1:0: C0111: Missing module docstring (missing-docstring)\n",
      "prime.py:2:0: C0111: Missing function docstring (missing-docstring)\n",
      "\n",
      "------------------------------------------------------------------\n",
      "\n",
      "Your code has been rated at 6.25/10 (previous run: 6.25/10, +0.00)\n",
      "\n",
      "\n",
      "\n"
     ]
    }
   ],
   "source": [
    "! pylint \"prime.py\""
   ]
  },
  {
   "cell_type": "code",
   "execution_count": 27,
   "metadata": {},
   "outputs": [
    {
     "name": "stdout",
     "output_type": "stream",
     "text": [
      "Overwriting primeunittesting.py\n"
     ]
    }
   ],
   "source": [
    "%%writefile primeunittesting.py\n",
    "\n",
    "import unittest\n",
    "import prime\n",
    "\n",
    "class testPrimeNumber(unittest.TestCase):\n",
    "    def testcase1(self):\n",
    "        a1 = 7\n",
    "        result = prime.prime(a1)\n",
    "        self.assertEqual(result, \"Number is Prime\")\n",
    "        \n",
    "    def testcase2(self):\n",
    "        a2 = 11 \n",
    "        result = prime.prime(a2)\n",
    "        self.assertEqual(result, \"Number is Prime\")\n",
    "\n",
    "if __name__ == \"__main__\":\n",
    "    unittest.main()"
   ]
  },
  {
   "cell_type": "code",
   "execution_count": 28,
   "metadata": {},
   "outputs": [
    {
     "name": "stderr",
     "output_type": "stream",
     "text": [
      "..\n",
      "----------------------------------------------------------------------\n",
      "Ran 2 tests in 0.000s\n",
      "\n",
      "OK\n"
     ]
    }
   ],
   "source": [
    "! python \"primeunittesting.py\""
   ]
  }
 ],
 "metadata": {
  "kernelspec": {
   "display_name": "Python 3",
   "language": "python",
   "name": "python3"
  },
  "language_info": {
   "codemirror_mode": {
    "name": "ipython",
    "version": 3
   },
   "file_extension": ".py",
   "mimetype": "text/x-python",
   "name": "python",
   "nbconvert_exporter": "python",
   "pygments_lexer": "ipython3",
   "version": "3.7.0"
  }
 },
 "nbformat": 4,
 "nbformat_minor": 2
}

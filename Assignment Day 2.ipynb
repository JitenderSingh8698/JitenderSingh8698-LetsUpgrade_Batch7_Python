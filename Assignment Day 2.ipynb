{
 "cells": [
  {
   "cell_type": "markdown",
   "metadata": {},
   "source": [
    "# List and its functions"
   ]
  },
  {
   "cell_type": "code",
   "execution_count": 5,
   "metadata": {},
   "outputs": [
    {
     "name": "stdout",
     "output_type": "stream",
     "text": [
      "updated list :  ['Scala', 'R', 'Python', 'SQL']\n"
     ]
    }
   ],
   "source": [
    "#append()\n",
    "list1 = ['Scala', 'R', 'Python']\n",
    "list1.append('SQL')\n",
    "print (\"updated list : \", list1)"
   ]
  },
  {
   "cell_type": "code",
   "execution_count": 6,
   "metadata": {},
   "outputs": [
    {
     "name": "stdout",
     "output_type": "stream",
     "text": [
      "updated list :  ['Scala', 'R', 'Python', 'SQL', 'SQL']\n"
     ]
    }
   ],
   "source": [
    "list1.append('SQL')\n",
    "print (\"updated list : \", list1)"
   ]
  },
  {
   "cell_type": "code",
   "execution_count": 7,
   "metadata": {},
   "outputs": [
    {
     "name": "stdout",
     "output_type": "stream",
     "text": [
      "Count for R :  1\n",
      "Count for SQL :  2\n"
     ]
    }
   ],
   "source": [
    "#count()\n",
    "print (\"Count for R : \", list1.count('R'))\n",
    "print (\"Count for SQL : \", list1.count('SQL'))"
   ]
  },
  {
   "cell_type": "code",
   "execution_count": 10,
   "metadata": {},
   "outputs": [
    {
     "name": "stdout",
     "output_type": "stream",
     "text": [
      "Index of SQL 3\n"
     ]
    }
   ],
   "source": [
    "#index\n",
    "print ('Index of SQL', list1.index('SQL'))\n"
   ]
  },
  {
   "cell_type": "code",
   "execution_count": 11,
   "metadata": {},
   "outputs": [
    {
     "ename": "ValueError",
     "evalue": "'C#' is not in list",
     "output_type": "error",
     "traceback": [
      "\u001b[1;31m---------------------------------------------------------------------------\u001b[0m",
      "\u001b[1;31mValueError\u001b[0m                                Traceback (most recent call last)",
      "\u001b[1;32m<ipython-input-11-fa486bce7265>\u001b[0m in \u001b[0;36m<module>\u001b[1;34m()\u001b[0m\n\u001b[1;32m----> 1\u001b[1;33m \u001b[0mprint\u001b[0m \u001b[1;33m(\u001b[0m\u001b[1;34m'Index of C#'\u001b[0m\u001b[1;33m,\u001b[0m \u001b[0mlist1\u001b[0m\u001b[1;33m.\u001b[0m\u001b[0mindex\u001b[0m\u001b[1;33m(\u001b[0m\u001b[1;34m'C#'\u001b[0m\u001b[1;33m)\u001b[0m\u001b[1;33m)\u001b[0m\u001b[1;33m\u001b[0m\u001b[0m\n\u001b[0m",
      "\u001b[1;31mValueError\u001b[0m: 'C#' is not in list"
     ]
    }
   ],
   "source": [
    "print ('Index of C#', list1.index('C#'))"
   ]
  },
  {
   "cell_type": "code",
   "execution_count": 12,
   "metadata": {},
   "outputs": [
    {
     "name": "stdout",
     "output_type": "stream",
     "text": [
      "Updated list :  ['Scala', 'Java', 'R', 'Python', 'SQL', 'SQL']\n"
     ]
    }
   ],
   "source": [
    "#insert\n",
    "list1.insert(1, 'Java')\n",
    "print ('Updated list : ', list1)"
   ]
  },
  {
   "cell_type": "markdown",
   "metadata": {},
   "source": [
    "# Dictionary "
   ]
  },
  {
   "cell_type": "code",
   "execution_count": 14,
   "metadata": {},
   "outputs": [
    {
     "name": "stdout",
     "output_type": "stream",
     "text": [
      "Length of dictionary : 3\n",
      "Length of dictionary after applying clear : 0\n"
     ]
    }
   ],
   "source": [
    "#clear\n",
    "dict = {'Name': 'Jitender', 'Age': 30, 'Class': 'Python Basics'}\n",
    "print (\"Length of dictionary : %d\" %  len(dict))\n",
    "dict.clear()\n",
    "print (\"Length of dictionary after applying clear : %d\" %  len(dict))"
   ]
  },
  {
   "cell_type": "code",
   "execution_count": 16,
   "metadata": {},
   "outputs": [
    {
     "name": "stdout",
     "output_type": "stream",
     "text": [
      "New Dictionary :  {'Name': 'Jitender', 'Age': 30, 'Class': 'Python Basics'}\n"
     ]
    }
   ],
   "source": [
    "#copy\n",
    "dict = {'Name': 'Jitender', 'Age': 30, 'Class': 'Python Basics'}\n",
    "dict2 = dict.copy()\n",
    "print (\"New Dictionary : \",dict2)"
   ]
  },
  {
   "cell_type": "code",
   "execution_count": 26,
   "metadata": {},
   "outputs": [
    {
     "name": "stdout",
     "output_type": "stream",
     "text": [
      "dictionary items: dict_items([('Name', 'Jitender'), ('Age', 30), ('Class', 'Python Basics')])\n"
     ]
    }
   ],
   "source": [
    "#items\n",
    "print(\"dictionary items:\",dict.items())"
   ]
  },
  {
   "cell_type": "code",
   "execution_count": 27,
   "metadata": {},
   "outputs": [
    {
     "name": "stdout",
     "output_type": "stream",
     "text": [
      "Values :  ['Jitender', 30, 'Python Basics']\n"
     ]
    }
   ],
   "source": [
    "#values\n",
    "print (\"Values : \", list(dict.values()))"
   ]
  },
  {
   "cell_type": "code",
   "execution_count": 28,
   "metadata": {},
   "outputs": [
    {
     "name": "stdout",
     "output_type": "stream",
     "text": [
      "updated dict :  {'Name': 'Jitender', 'Age': 30, 'Class': 'Python Basics', 'Gender': 'Male'}\n"
     ]
    }
   ],
   "source": [
    "#update\n",
    "dict2 = {'Gender': 'Male' }\n",
    "dict.update(dict2)\n",
    "print (\"updated dict : \", dict)"
   ]
  },
  {
   "cell_type": "markdown",
   "metadata": {},
   "source": [
    "# Sets"
   ]
  },
  {
   "cell_type": "code",
   "execution_count": 35,
   "metadata": {},
   "outputs": [
    {
     "name": "stdout",
     "output_type": "stream",
     "text": [
      "{'Mon', 'Wed', 'Fri', 'Tue', 'Sat', 'Thu'}\n"
     ]
    }
   ],
   "source": [
    "#creating a set\n",
    "Days={\"Mon\",\"Tue\",\"Wed\",\"Thu\",\"Fri\",\"Sat\"}\n",
    "print(Days)"
   ]
  },
  {
   "cell_type": "code",
   "execution_count": 36,
   "metadata": {},
   "outputs": [
    {
     "name": "stdout",
     "output_type": "stream",
     "text": [
      "{'Mon', 'Sun', 'Wed', 'Fri', 'Tue', 'Sat', 'Thu'}\n"
     ]
    }
   ],
   "source": [
    "#add items to set\n",
    "Days.add(\"Sun\")\n",
    "print(Days)"
   ]
  },
  {
   "cell_type": "code",
   "execution_count": 37,
   "metadata": {},
   "outputs": [
    {
     "name": "stdout",
     "output_type": "stream",
     "text": [
      "{'Mon', 'Wed', 'Fri', 'Tue', 'Sat', 'Thu'}\n"
     ]
    }
   ],
   "source": [
    "#remove items in set\n",
    "Days.discard(\"Sun\")\n",
    "print(Days)"
   ]
  },
  {
   "cell_type": "code",
   "execution_count": 39,
   "metadata": {},
   "outputs": [
    {
     "name": "stdout",
     "output_type": "stream",
     "text": [
      "{'Mon', 'Sun', 'Wed', 'Sat', 'Fri', 'Tue', 'Thu'}\n"
     ]
    }
   ],
   "source": [
    "#union of two sets\n",
    "Day1={\"Mon\",\"Tue\",\"Wed\",\"Thu\",\"Fri\",\"Sat\",\"Sun\"}\n",
    "daysunion=Days|Day1\n",
    "print(daysunion)"
   ]
  },
  {
   "cell_type": "code",
   "execution_count": 40,
   "metadata": {},
   "outputs": [
    {
     "name": "stdout",
     "output_type": "stream",
     "text": [
      "{'Mon', 'Wed', 'Sat', 'Fri', 'Tue', 'Thu'}\n"
     ]
    }
   ],
   "source": [
    "#intersection of two sets\n",
    "daysintersect = Days & Day1\n",
    "print(daysintersect)"
   ]
  },
  {
   "cell_type": "code",
   "execution_count": 43,
   "metadata": {},
   "outputs": [
    {
     "name": "stdout",
     "output_type": "stream",
     "text": [
      "{'Mon', 'Wed', 'Sat', 'Tue', 'Thu'}\n"
     ]
    }
   ],
   "source": [
    "#difference of two sets\n",
    "Days2={'Fri','Sun'}\n",
    "daysdiff = Days - Days2\n",
    "print(daysdiff)"
   ]
  },
  {
   "cell_type": "markdown",
   "metadata": {},
   "source": [
    "# Tuples"
   ]
  },
  {
   "cell_type": "code",
   "execution_count": 56,
   "metadata": {},
   "outputs": [],
   "source": [
    "tup1 = ('physics', 'chemistry', 1997, 2000)\n",
    "tup2 = (1, 2, 3, 4, 5, 6, 7 )"
   ]
  },
  {
   "cell_type": "code",
   "execution_count": 59,
   "metadata": {},
   "outputs": [
    {
     "name": "stdout",
     "output_type": "stream",
     "text": [
      "(123, 'xyz', 456, 'abc')\n"
     ]
    }
   ],
   "source": [
    "#updating\n",
    "tuple1,tuple2 = (123, 'xyz'), (456, 'abc')\n",
    "tup3=tuple1+tuple2\n",
    "print (tup3)\n",
    "\n"
   ]
  },
  {
   "cell_type": "code",
   "execution_count": 50,
   "metadata": {},
   "outputs": [
    {
     "name": "stdout",
     "output_type": "stream",
     "text": [
      "First tuple length :  4\n"
     ]
    }
   ],
   "source": [
    "#length\n",
    "print (\"First tuple length : \", len(tup1))"
   ]
  },
  {
   "cell_type": "code",
   "execution_count": 51,
   "metadata": {},
   "outputs": [
    {
     "name": "stdout",
     "output_type": "stream",
     "text": [
      "Max value element :  7\n"
     ]
    }
   ],
   "source": [
    "#max\n",
    "print (\"Max value element : \", max(tup2))"
   ]
  },
  {
   "cell_type": "code",
   "execution_count": 53,
   "metadata": {},
   "outputs": [
    {
     "name": "stdout",
     "output_type": "stream",
     "text": [
      "Max value element :  1\n"
     ]
    }
   ],
   "source": [
    "#min\n",
    "print (\"Max value element : \", min(tup2))"
   ]
  },
  {
   "cell_type": "code",
   "execution_count": 54,
   "metadata": {},
   "outputs": [
    {
     "name": "stdout",
     "output_type": "stream",
     "text": [
      "tuple elements :  ('maths', 'che', 'phy', 'bio')\n"
     ]
    }
   ],
   "source": [
    "#tuple\n",
    "list1 = ['maths', 'che', 'phy', 'bio']\n",
    "tuple1 = tuple(list1)\n",
    "print (\"tuple elements : \", tuple1)"
   ]
  },
  {
   "cell_type": "markdown",
   "metadata": {},
   "source": [
    "# Strings"
   ]
  },
  {
   "cell_type": "code",
   "execution_count": 60,
   "metadata": {},
   "outputs": [
    {
     "name": "stdout",
     "output_type": "stream",
     "text": [
      "str.capitalize() :  This is string example....wow!!!\n"
     ]
    }
   ],
   "source": [
    "#capitalize\n",
    "str = \"this is string example....wow!!!\"\n",
    "print (\"str.capitalize() : \", str.capitalize())"
   ]
  },
  {
   "cell_type": "code",
   "execution_count": 64,
   "metadata": {},
   "outputs": [
    {
     "name": "stdout",
     "output_type": "stream",
     "text": [
      "Encoded String:  b'dGhpcyBpcyBzdHJpbmcgZXhhbXBsZS4uLi53b3chISE='\n"
     ]
    }
   ],
   "source": [
    "#encoding\n",
    "import base64\n",
    "str = base64.b64encode(str.encode('utf-8',errors = 'strict'))\n",
    "print (\"Encoded String: \" , str)"
   ]
  },
  {
   "cell_type": "code",
   "execution_count": 66,
   "metadata": {},
   "outputs": [
    {
     "name": "stdout",
     "output_type": "stream",
     "text": [
      "False\n"
     ]
    }
   ],
   "source": [
    "#isalnum\n",
    "print (str.isalnum())"
   ]
  },
  {
   "cell_type": "code",
   "execution_count": 67,
   "metadata": {},
   "outputs": [
    {
     "name": "stdout",
     "output_type": "stream",
     "text": [
      "False\n"
     ]
    }
   ],
   "source": [
    "#isdigit\n",
    "print (str.isdigit())"
   ]
  },
  {
   "cell_type": "code",
   "execution_count": 68,
   "metadata": {},
   "outputs": [
    {
     "name": "stdout",
     "output_type": "stream",
     "text": [
      "Length of the string:  44\n"
     ]
    }
   ],
   "source": [
    "#len\n",
    "print (\"Length of the string: \", len(str))"
   ]
  }
 ],
 "metadata": {
  "kernelspec": {
   "display_name": "Python 3",
   "language": "python",
   "name": "python3"
  },
  "language_info": {
   "codemirror_mode": {
    "name": "ipython",
    "version": 3
   },
   "file_extension": ".py",
   "mimetype": "text/x-python",
   "name": "python",
   "nbconvert_exporter": "python",
   "pygments_lexer": "ipython3",
   "version": "3.7.0"
  }
 },
 "nbformat": 4,
 "nbformat_minor": 2
}

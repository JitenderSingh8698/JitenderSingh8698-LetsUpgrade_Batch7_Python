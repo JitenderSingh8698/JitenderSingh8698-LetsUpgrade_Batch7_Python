{
 "cells": [
  {
   "cell_type": "code",
   "execution_count": 30,
   "metadata": {},
   "outputs": [],
   "source": [
    "#Question 1 : write a program to identify sublist [1,1,5] there  in the given list the same order \n",
    "#if yes print \"its a match\" if no then print \"its gone\" in function.\n",
    "#example : List=[1,5,6,4,1,2,3,5]  - Its a match\n",
    "#List= [1,5,6,5,1,2,3,6] - its gone\n",
    "\n"
   ]
  },
  {
   "cell_type": "code",
   "execution_count": 27,
   "metadata": {},
   "outputs": [
    {
     "name": "stdout",
     "output_type": "stream",
     "text": [
      "Enter the length of the list : 8\n",
      "Enter the number for the list : 1\n",
      "Enter the number for the list : 5\n",
      "Enter the number for the list : 6\n",
      "Enter the number for the list : 4\n",
      "Enter the number for the list : 1\n",
      "Enter the number for the list : 2\n",
      "Enter the number for the list : 3\n",
      "Enter the number for the list : 5\n",
      "\n",
      "List is :  [1, 5, 6, 4, 1, 2, 3, 5]\n",
      "\n",
      " It's a match\n"
     ]
    }
   ],
   "source": [
    "lst = [1, 1, 5]\n",
    "\n",
    "lst1 = []\n",
    "l = int(input(\"Enter the length of the list : \"))\n",
    "j = 0;\n",
    "\n",
    "# creating a list\n",
    "for i in range (0,l):\n",
    "    lst1.append(int(input(\"Enter the number for the list : \")))\n",
    "print()\n",
    "print(\"List is : \", lst1)\n",
    "\n",
    "for i in range(0,l):\n",
    "    if( lst1[i] == lst[j] ):        \n",
    "        j += 1        \n",
    "        i += 1        \n",
    "    else:        \n",
    "        i +=1    \n",
    "if( j == 3 ):\n",
    "    print (\"\\n It's a match\")\n",
    "else:\n",
    "    print (\"\\n It's Gone\")"
   ]
  }
 ],
 "metadata": {
  "kernelspec": {
   "display_name": "Python 3",
   "language": "python",
   "name": "python3"
  },
  "language_info": {
   "codemirror_mode": {
    "name": "ipython",
    "version": 3
   },
   "file_extension": ".py",
   "mimetype": "text/x-python",
   "name": "python",
   "nbconvert_exporter": "python",
   "pygments_lexer": "ipython3",
   "version": "3.7.0"
  }
 },
 "nbformat": 4,
 "nbformat_minor": 2
}

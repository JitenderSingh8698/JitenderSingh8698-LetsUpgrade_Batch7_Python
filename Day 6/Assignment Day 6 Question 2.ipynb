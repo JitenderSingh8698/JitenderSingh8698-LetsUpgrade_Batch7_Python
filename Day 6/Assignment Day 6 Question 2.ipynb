{
 "cells": [
  {
   "cell_type": "code",
   "execution_count": 1,
   "metadata": {},
   "outputs": [],
   "source": [
    "import math\n",
    "\n",
    "pi = math.pi\n",
    "class cone:    \n",
    "    def __init__(self,r,h): \n",
    "        self.r=r\n",
    "        self.h=h\n",
    "        \n",
    "    def volume(self):\n",
    "        result = (1 / 3) * pi * self.r * self.r * self.h\n",
    "        print(\" Volume Of Cone is :\",result)\n",
    "        \n",
    "    def surfacearea(self):\n",
    "        result = pi * self.r * self.h + pi * self.r * self.r\n",
    "        print(\" Surface Area Of Cone is :\",result)"
   ]
  },
  {
   "cell_type": "code",
   "execution_count": 2,
   "metadata": {},
   "outputs": [
    {
     "name": "stdout",
     "output_type": "stream",
     "text": [
      " Enter the radius of cone : 4\n",
      " Enter the height of cone : 3\n",
      " Volume Of Cone is : 50.26548245743669\n",
      " Surface Area Of Cone is : 87.96459430051421\n"
     ]
    }
   ],
   "source": [
    "ra = float(input(\" Enter the radius of cone : \"))\n",
    "he = float(input(\" Enter the height of cone : \"))\n",
    "c = cone( ra, he)\n",
    "c.volume()\n",
    "c.surfacearea()"
   ]
  }
 ],
 "metadata": {
  "kernelspec": {
   "display_name": "Python 3",
   "language": "python",
   "name": "python3"
  },
  "language_info": {
   "codemirror_mode": {
    "name": "ipython",
    "version": 3
   },
   "file_extension": ".py",
   "mimetype": "text/x-python",
   "name": "python",
   "nbconvert_exporter": "python",
   "pygments_lexer": "ipython3",
   "version": "3.7.0"
  }
 },
 "nbformat": 4,
 "nbformat_minor": 2
}

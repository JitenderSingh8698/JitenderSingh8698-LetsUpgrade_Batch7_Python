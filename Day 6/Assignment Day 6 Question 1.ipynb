{
 "cells": [
  {
   "cell_type": "code",
   "execution_count": 2,
   "metadata": {},
   "outputs": [
    {
     "name": "stdout",
     "output_type": "stream",
     "text": [
      "WELCOME TO ABC BANK\n",
      "Account Holder Name is : Jitender Singh\n",
      "Account Balance is : 0\n",
      "Enter amount to be Deposited : 10000\n",
      "Amount Deposited : 10000.0\n",
      "Enter amount to be Withdrawn : 5000\n",
      "Withdrawan Amount is  : 5000.0\n",
      "Available balance  :  5000.0\n"
     ]
    }
   ],
   "source": [
    "#create BankAccount class\n",
    "\n",
    "class BankAccount: \n",
    "\n",
    "    def __init__(self): \n",
    "        self.ownerName=\"Jitender Singh\"        \n",
    "        self.Balance=0\n",
    "        \n",
    "    def Deposit(self): \n",
    "        Amount=float(input(\"Enter amount to be Deposited : \"))         \n",
    "        self.Balance += Amount         \n",
    "        print(\"Amount Deposited :\",Amount) \n",
    "  \n",
    "    def Withdraw(self): \n",
    "        Amount = float(input(\"Enter amount to be Withdrawn : \")) \n",
    "        if self.Balance >= Amount: \n",
    "            self.Balance -= Amount \n",
    "            print(\"Withdrawan Amount is  :\", Amount)         \n",
    "        else:        \n",
    "            print(\"Insufficient balance!! Please add money to your account \") \n",
    "\n",
    "print(\"WELCOME TO ABC BANK\")\n",
    "    \n",
    "ah = BankAccount()\n",
    "\n",
    "print(\"Account Holder Name is :\",ah.ownerName)\n",
    "    \n",
    "print(\"Account Balance is :\",ah.Balance)\n",
    "   \n",
    "ah.Deposit();\n",
    "    \n",
    "ah.Withdraw();\n",
    "    \n",
    "print(\"Available balance  : \",ah.Balance)"
   ]
  }
 ],
 "metadata": {
  "kernelspec": {
   "display_name": "Python 3",
   "language": "python",
   "name": "python3"
  },
  "language_info": {
   "codemirror_mode": {
    "name": "ipython",
    "version": 3
   },
   "file_extension": ".py",
   "mimetype": "text/x-python",
   "name": "python",
   "nbconvert_exporter": "python",
   "pygments_lexer": "ipython3",
   "version": "3.7.0"
  }
 },
 "nbformat": 4,
 "nbformat_minor": 2
}

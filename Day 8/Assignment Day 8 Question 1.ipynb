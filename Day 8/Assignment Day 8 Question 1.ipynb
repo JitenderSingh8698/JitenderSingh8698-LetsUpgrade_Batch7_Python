{
 "cells": [
  {
   "cell_type": "code",
   "execution_count": null,
   "metadata": {},
   "outputs": [],
   "source": [
    "#Question : Write a decorator function for taking input from you any kind of function you want to build.\n",
    "# for eg : you make a fibonacci series function, in which your input range is been defined by the decorator program input."
   ]
  },
  {
   "cell_type": "code",
   "execution_count": 2,
   "metadata": {},
   "outputs": [],
   "source": [
    "# Decorator\n",
    "\n",
    "def Input(calculate):    \n",
    "    def func():    \n",
    "        a = int(input(\"First Number - \"))        \n",
    "        b = int(input(\"Second Number - \"))        \n",
    "        calculate(a,b)   \n",
    "    \n",
    "    return func"
   ]
  },
  {
   "cell_type": "code",
   "execution_count": 4,
   "metadata": {},
   "outputs": [],
   "source": [
    "#calling decorator for input\n",
    "\n",
    "@Input\n",
    "def Even(start, last):    \n",
    "    print(\"Even numbers for the range\",start,\"to\",last,\"are :\\n\")\n",
    "    for n in range(start, last + 1):       \n",
    "        if n % 2 == 0:            \n",
    "            print(n, end = \" \")"
   ]
  },
  {
   "cell_type": "code",
   "execution_count": 5,
   "metadata": {},
   "outputs": [
    {
     "name": "stdout",
     "output_type": "stream",
     "text": [
      "First Number - 5\n",
      "Second Number - 50\n",
      "Even numbers for the range 5 to 50 are :\n",
      "\n",
      "6 8 10 12 14 16 18 20 22 24 26 28 30 32 34 36 38 40 42 44 46 48 50 "
     ]
    }
   ],
   "source": [
    "Even()"
   ]
  }
 ],
 "metadata": {
  "kernelspec": {
   "display_name": "Python 3",
   "language": "python",
   "name": "python3"
  },
  "language_info": {
   "codemirror_mode": {
    "name": "ipython",
    "version": 3
   },
   "file_extension": ".py",
   "mimetype": "text/x-python",
   "name": "python",
   "nbconvert_exporter": "python",
   "pygments_lexer": "ipython3",
   "version": "3.7.0"
  }
 },
 "nbformat": 4,
 "nbformat_minor": 2
}

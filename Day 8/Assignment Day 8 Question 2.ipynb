{
 "cells": [
  {
   "cell_type": "code",
   "execution_count": null,
   "metadata": {},
   "outputs": [],
   "source": [
    "#Question 2 : Develop a program to open a file in read only mode and try writing something to it and handle the subsequent \n",
    "#error using exception handling."
   ]
  },
  {
   "cell_type": "code",
   "execution_count": 4,
   "metadata": {},
   "outputs": [
    {
     "name": "stdout",
     "output_type": "stream",
     "text": [
      "Writing dummy.txt\n"
     ]
    }
   ],
   "source": [
    "%%writefile dummy.txt\n",
    "\n",
    "Hi This is Jitender \n",
    "Letsupgrade is great platform to upgrade our skills."
   ]
  },
  {
   "cell_type": "code",
   "execution_count": 5,
   "metadata": {},
   "outputs": [
    {
     "name": "stdout",
     "output_type": "stream",
     "text": [
      "Error has been occured\n",
      "Error message is : not writable\n"
     ]
    }
   ],
   "source": [
    "#opening file in read only mode\n",
    "try:    \n",
    "    file = open(\"dummy.txt\",\"r\")    \n",
    "    file.write(\"I live in Pune\")    \n",
    "    print(\"Changes made to the original file\")\n",
    "    \n",
    "except Exception as ex:    \n",
    "    print(\"Error has been occured\")    \n",
    "    print(\"Error message is :\",ex)"
   ]
  }
 ],
 "metadata": {
  "kernelspec": {
   "display_name": "Python 3",
   "language": "python",
   "name": "python3"
  },
  "language_info": {
   "codemirror_mode": {
    "name": "ipython",
    "version": 3
   },
   "file_extension": ".py",
   "mimetype": "text/x-python",
   "name": "python",
   "nbconvert_exporter": "python",
   "pygments_lexer": "ipython3",
   "version": "3.7.0"
  }
 },
 "nbformat": 4,
 "nbformat_minor": 2
}

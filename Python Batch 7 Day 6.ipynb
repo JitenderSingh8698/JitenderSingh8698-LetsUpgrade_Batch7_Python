{
 "cells": [
  {
   "cell_type": "code",
   "execution_count": null,
   "metadata": {},
   "outputs": [],
   "source": [
    "#OOPS concepts"
   ]
  },
  {
   "cell_type": "code",
   "execution_count": 9,
   "metadata": {},
   "outputs": [],
   "source": [
    "class animal():\n",
    "    def __init__(self,aname,atype,legs,sound,eat):\n",
    "        self.aname=aname\n",
    "        self.atype=atype\n",
    "        self.legs=legs\n",
    "        self.sound=sound\n",
    "        self.eat=eat\n",
    "        \n",
    "    def getdetails(self):\n",
    "        print(\"animal name: \",self.aname)\n",
    "        print(\"animal type: \",self.atype)\n",
    "        print(\"animal legs: \",self.legs)\n",
    "        print(\"animal sound: \",self.sound)\n",
    "        print(\"animal eat: \",self.eat)       \n",
    "        "
   ]
  },
  {
   "cell_type": "code",
   "execution_count": 10,
   "metadata": {},
   "outputs": [],
   "source": [
    "pug=animal(\"tommy\",\"hybrid dog\",4,\"bhow bhow\",\"carnivorous\")"
   ]
  },
  {
   "cell_type": "code",
   "execution_count": 7,
   "metadata": {},
   "outputs": [
    {
     "data": {
      "text/plain": [
       "'tommy'"
      ]
     },
     "execution_count": 7,
     "metadata": {},
     "output_type": "execute_result"
    }
   ],
   "source": [
    "pug.aname"
   ]
  },
  {
   "cell_type": "code",
   "execution_count": 11,
   "metadata": {},
   "outputs": [
    {
     "name": "stdout",
     "output_type": "stream",
     "text": [
      "animal name:  tommy\n",
      "animal type:  hybrid dog\n",
      "animal legs:  4\n",
      "animal sound:  bhow bhow\n",
      "animal eat:  carnivorous\n"
     ]
    }
   ],
   "source": [
    "pug.getdetails()"
   ]
  }
 ],
 "metadata": {
  "kernelspec": {
   "display_name": "Python 3",
   "language": "python",
   "name": "python3"
  },
  "language_info": {
   "codemirror_mode": {
    "name": "ipython",
    "version": 3
   },
   "file_extension": ".py",
   "mimetype": "text/x-python",
   "name": "python",
   "nbconvert_exporter": "python",
   "pygments_lexer": "ipython3",
   "version": "3.7.0"
  }
 },
 "nbformat": 4,
 "nbformat_minor": 2
}

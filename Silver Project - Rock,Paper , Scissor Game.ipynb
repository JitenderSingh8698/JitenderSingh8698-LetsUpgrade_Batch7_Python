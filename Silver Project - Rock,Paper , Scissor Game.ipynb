{
 "cells": [
  {
   "cell_type": "code",
   "execution_count": 1,
   "metadata": {},
   "outputs": [],
   "source": [
    "def takePlayerInput():     \n",
    "    player = \"blank\"     \n",
    "    while not( player.lower() == \"r\" or player.lower() == \"p\" or player.lower() == \"s\") :         \n",
    "        player = input(\"Please Enter your input out of - R | P | S = \")     \n",
    "        return player.lower()\n",
    "   "
   ]
  },
  {
   "cell_type": "code",
   "execution_count": 2,
   "metadata": {},
   "outputs": [
    {
     "name": "stdout",
     "output_type": "stream",
     "text": [
      "Please Enter your input out of - R | P | S = r\n"
     ]
    },
    {
     "data": {
      "text/plain": [
       "'r'"
      ]
     },
     "execution_count": 2,
     "metadata": {},
     "output_type": "execute_result"
    }
   ],
   "source": [
    "takePlayerInput()"
   ]
  },
  {
   "cell_type": "code",
   "execution_count": 3,
   "metadata": {},
   "outputs": [],
   "source": [
    "import random\n",
    "def getbotinput():\n",
    "    lst=['r','p','s']\n",
    "    return random.choice(lst)"
   ]
  },
  {
   "cell_type": "code",
   "execution_count": 4,
   "metadata": {},
   "outputs": [
    {
     "data": {
      "text/plain": [
       "'r'"
      ]
     },
     "execution_count": 4,
     "metadata": {},
     "output_type": "execute_result"
    }
   ],
   "source": [
    "getbotinput()"
   ]
  },
  {
   "cell_type": "code",
   "execution_count": 5,
   "metadata": {},
   "outputs": [],
   "source": [
    "def checkWinner(player,bot):\n",
    "    if player == 'r' and bot == \"r\":\n",
    "        return \"draw\"     \n",
    "    elif player == \"r\" and bot == \"p\":\n",
    "        return \"bot\"    \n",
    "    elif player == \"r\" and bot == \"s\":\n",
    "        return \"player\"     \n",
    "    elif player == \"p\" and bot == \"s\":\n",
    "        return \"bot\"     \n",
    "    elif player == \"p\" and bot == \"r\":\n",
    "        return \"player\"     \n",
    "    elif player == \"p\" and bot == \"p\":\n",
    "        return \"draw\"     \n",
    "    elif player == \"s\" and bot == \"r\":\n",
    "        return \"bot\"    \n",
    "    elif player == \"s\" and bot == \"p\":\n",
    "        return \"player\"     \n",
    "    elif player == \"s\" and bot == \"s\":\n",
    "        return \"draw\"    \n",
    "    else:         \n",
    "        return \"draw\"\n"
   ]
  },
  {
   "cell_type": "code",
   "execution_count": 6,
   "metadata": {},
   "outputs": [],
   "source": [
    "def rockPaperScissor():\n",
    "    endTheGame = \"n\"\n",
    "    player_score = 0 \n",
    "    bot_score = 0  \n",
    "    while endTheGame.lower() != \"y\":\n",
    "        ply = takePlayerInput()\n",
    "        bt = getbotinput()\n",
    "        print('Bot Entered - ', bt)\n",
    "        print(\" \")\n",
    "        winner = checkWinner(player = ply, bot = bt)\n",
    "        print(\" Winner is - \", winner)\n",
    "        print(\" \")        \n",
    "        if winner == \"player\":\n",
    "            player_score += 2\n",
    "        elif winner == \"bot\":\n",
    "                bot_score += 2 \n",
    "        else :\n",
    "                    player_score += 1\n",
    "                    bot_score += 1 \n",
    "                    print(\"--Score board--\")\n",
    "                    print(\"PLAYER \",player_score)\n",
    "                    print(\"Bot ---\",bot_score)\n",
    "                    print(\" \")\n",
    "                    endTheGame = input(\"You want to end Y/N - \")\n",
    "\n"
   ]
  },
  {
   "cell_type": "code",
   "execution_count": 7,
   "metadata": {},
   "outputs": [
    {
     "name": "stdout",
     "output_type": "stream",
     "text": [
      "Please Enter your input out of - R | P | S = r\n",
      "Bot Entered -  p\n",
      " \n",
      " Winner is -  bot\n",
      " \n",
      "Please Enter your input out of - R | P | S = s\n",
      "Bot Entered -  s\n",
      " \n",
      " Winner is -  draw\n",
      " \n",
      "--Score board--\n",
      "PLAYER  1\n",
      "Bot --- 3\n",
      " \n",
      "You want to end Y/N - r\n",
      "Please Enter your input out of - R | P | S = s\n",
      "Bot Entered -  p\n",
      " \n",
      " Winner is -  player\n",
      " \n",
      "Please Enter your input out of - R | P | S = r\n",
      "Bot Entered -  s\n",
      " \n",
      " Winner is -  player\n",
      " \n",
      "Please Enter your input out of - R | P | S = s\n",
      "Bot Entered -  p\n",
      " \n",
      " Winner is -  player\n",
      " \n",
      "Please Enter your input out of - R | P | S = r\n",
      "Bot Entered -  r\n",
      " \n",
      " Winner is -  draw\n",
      " \n",
      "--Score board--\n",
      "PLAYER  8\n",
      "Bot --- 4\n",
      " \n",
      "You want to end Y/N - s\n",
      "Please Enter your input out of - R | P | S = y\n",
      "Bot Entered -  p\n",
      " \n",
      " Winner is -  draw\n",
      " \n",
      "--Score board--\n",
      "PLAYER  9\n",
      "Bot --- 5\n",
      " \n",
      "You want to end Y/N - y\n"
     ]
    }
   ],
   "source": [
    "rockPaperScissor()"
   ]
  }
 ],
 "metadata": {
  "kernelspec": {
   "display_name": "Python 3",
   "language": "python",
   "name": "python3"
  },
  "language_info": {
   "codemirror_mode": {
    "name": "ipython",
    "version": 3
   },
   "file_extension": ".py",
   "mimetype": "text/x-python",
   "name": "python",
   "nbconvert_exporter": "python",
   "pygments_lexer": "ipython3",
   "version": "3.7.0"
  }
 },
 "nbformat": 4,
 "nbformat_minor": 2
}

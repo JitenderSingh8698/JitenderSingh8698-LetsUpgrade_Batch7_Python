{
 "cells": [
  {
   "cell_type": "markdown",
   "metadata": {},
   "source": [
    "# Day 4\n",
    "# Agenda - While Loops , File handling, Functions and Game Development."
   ]
  },
  {
   "cell_type": "code",
   "execution_count": null,
   "metadata": {},
   "outputs": [],
   "source": [
    "#while loops will continue execute a block of code while some conditions remains true."
   ]
  },
  {
   "cell_type": "code",
   "execution_count": 1,
   "metadata": {},
   "outputs": [
    {
     "name": "stdout",
     "output_type": "stream",
     "text": [
      "Hey I am in 1\n",
      "Hey I am in 2\n",
      "Hey I am in 3\n",
      "Hey I am in 4\n",
      "Hey I am in 5\n",
      "Hey I am in 6\n",
      "Hey I am in 7\n",
      "Hey I am in 8\n",
      "Hey I am in 9\n"
     ]
    }
   ],
   "source": [
    "i=1\n",
    "while i<10:\n",
    "    print (\"Hey I am in\",i)\n",
    "    i=i+1"
   ]
  },
  {
   "cell_type": "code",
   "execution_count": 7,
   "metadata": {},
   "outputs": [
    {
     "name": "stdout",
     "output_type": "stream",
     "text": [
      "Even Number is : 2\n",
      "Even Number is : 4\n",
      "Even Number is : 6\n",
      "Even Number is : 8\n",
      "Even Number is : 10\n",
      "Even Number is : 12\n",
      "Even Number is : 14\n",
      "Even Number is : 16\n",
      "Even Number is : 18\n",
      "Even Number is : 20\n",
      "Even Number is : 22\n",
      "Even Number is : 24\n",
      "Even Number is : 26\n",
      "Even Number is : 28\n",
      "Even Number is : 30\n",
      "Even Number is : 32\n",
      "Even Number is : 34\n",
      "Even Number is : 36\n",
      "Even Number is : 38\n",
      "Even Number is : 40\n",
      "Even Number is : 42\n",
      "Even Number is : 44\n",
      "Even Number is : 46\n",
      "Even Number is : 48\n",
      "Even Number is : 50\n",
      "Even Number is : 52\n",
      "Even Number is : 54\n",
      "Even Number is : 56\n",
      "Even Number is : 58\n",
      "Even Number is : 60\n",
      "Even Number is : 62\n",
      "Even Number is : 64\n",
      "Even Number is : 66\n",
      "Even Number is : 68\n",
      "Even Number is : 70\n",
      "Even Number is : 72\n",
      "Even Number is : 74\n",
      "Even Number is : 76\n",
      "Even Number is : 78\n",
      "Even Number is : 80\n",
      "Even Number is : 82\n",
      "Even Number is : 84\n",
      "Even Number is : 86\n",
      "Even Number is : 88\n",
      "Even Number is : 90\n",
      "Even Number is : 92\n",
      "Even Number is : 94\n",
      "Even Number is : 96\n",
      "Even Number is : 98\n"
     ]
    }
   ],
   "source": [
    "i=1\n",
    "while i<100:\n",
    "    if i%2==0:\n",
    "        print(\"Even Number is :\",i)\n",
    "    i=i+1\n",
    "    #else:\n",
    "     #   print(\"Odd Number is:\",i)\n",
    "        \n",
    "    \n",
    "    "
   ]
  },
  {
   "cell_type": "code",
   "execution_count": null,
   "metadata": {},
   "outputs": [],
   "source": [
    "#Break, Pass and Continue"
   ]
  },
  {
   "cell_type": "code",
   "execution_count": null,
   "metadata": {},
   "outputs": [],
   "source": [
    "#Break\n",
    "#where is break keyword used?\n",
    "#Break is used for Breaking a particular loop."
   ]
  },
  {
   "cell_type": "code",
   "execution_count": 9,
   "metadata": {},
   "outputs": [
    {
     "name": "stdout",
     "output_type": "stream",
     "text": [
      "Enter the input in yes/no (y/n)i\n",
      "keep on asking again for holiday\n",
      "Enter the input in yes/no (y/n)u\n",
      "keep on asking again for holiday\n",
      "Enter the input in yes/no (y/n)t\n",
      "keep on asking again for holiday\n",
      "Enter the input in yes/no (y/n)y\n",
      "keep on asking again for holiday\n",
      "Holiday Approved Done :)\n"
     ]
    }
   ],
   "source": [
    "char='n'\n",
    "while char.lower()!='y':\n",
    "    char=input(\"Enter the input in yes/no (y/n)\")\n",
    "    print(\"keep on asking again for holiday\")\n",
    "else:\n",
    "    print(\"Holiday Approved Done :)\")"
   ]
  },
  {
   "cell_type": "code",
   "execution_count": null,
   "metadata": {},
   "outputs": [],
   "source": [
    "#break is used for breaking the loop"
   ]
  },
  {
   "cell_type": "code",
   "execution_count": 10,
   "metadata": {},
   "outputs": [
    {
     "name": "stdout",
     "output_type": "stream",
     "text": [
      "1\n",
      "2\n",
      "3\n",
      "4\n",
      "5\n"
     ]
    }
   ],
   "source": [
    "for i in range(1,10):\n",
    "    print(i)\n",
    "    if i==5:\n",
    "        break"
   ]
  },
  {
   "cell_type": "code",
   "execution_count": null,
   "metadata": {},
   "outputs": [],
   "source": [
    "#continue is used for skipping the closed loop."
   ]
  },
  {
   "cell_type": "code",
   "execution_count": 12,
   "metadata": {},
   "outputs": [
    {
     "name": "stdout",
     "output_type": "stream",
     "text": [
      "1\n",
      "Hey I am Jitender\n",
      "2\n",
      "Hey I am Jitender\n",
      "3\n",
      "Hey I am Jitender\n",
      "4\n",
      "Hey I am Jitender\n",
      "5\n",
      "6\n",
      "Hey I am Jitender\n",
      "7\n",
      "Hey I am Jitender\n",
      "8\n",
      "Hey I am Jitender\n",
      "9\n",
      "Hey I am Jitender\n"
     ]
    }
   ],
   "source": [
    "for i in range(1,10):\n",
    "    print(i)\n",
    "    if i==5:\n",
    "        continue\n",
    "    print(\"Hey I am Jitender\")"
   ]
  },
  {
   "cell_type": "code",
   "execution_count": null,
   "metadata": {},
   "outputs": [],
   "source": [
    "#Pass: Does nothing at all and it is used as Placeholder\n"
   ]
  },
  {
   "cell_type": "code",
   "execution_count": null,
   "metadata": {},
   "outputs": [],
   "source": [
    "i=10\n",
    "\n",
    "for i in range(1,100):\n",
    "    pass"
   ]
  },
  {
   "cell_type": "markdown",
   "metadata": {},
   "source": [
    "# File Handling"
   ]
  },
  {
   "cell_type": "code",
   "execution_count": null,
   "metadata": {},
   "outputs": [],
   "source": [
    "#Files are used to store data in a storage device permanently. \n",
    "#File handling provides a mechanism to store the output of a program in a file and to perform various operations on it."
   ]
  },
  {
   "cell_type": "code",
   "execution_count": null,
   "metadata": {},
   "outputs": [],
   "source": [
    "#file handling operations : \n",
    "#1. creation of file 2. Opening an existing file 3. Reading data from a file 4. writing data in a file 5. closing a file."
   ]
  },
  {
   "cell_type": "code",
   "execution_count": null,
   "metadata": {},
   "outputs": [],
   "source": [
    "file= open(\"letsupgrade.txt\",\"w\")\n",
    "file.write(\"Hey Guys.. lets meet on monday!!Happy Weekend\")\n",
    "file.close()"
   ]
  },
  {
   "cell_type": "code",
   "execution_count": null,
   "metadata": {},
   "outputs": [],
   "source": [
    "file= open(\"letsupgra.txt\",\"r\")\n",
    "f=file.read()\n",
    "print(f)"
   ]
  },
  {
   "cell_type": "code",
   "execution_count": null,
   "metadata": {},
   "outputs": [],
   "source": []
  },
  {
   "cell_type": "code",
   "execution_count": null,
   "metadata": {},
   "outputs": [],
   "source": []
  },
  {
   "cell_type": "code",
   "execution_count": null,
   "metadata": {},
   "outputs": [],
   "source": []
  }
 ],
 "metadata": {
  "kernelspec": {
   "display_name": "Python 3",
   "language": "python",
   "name": "python3"
  },
  "language_info": {
   "codemirror_mode": {
    "name": "ipython",
    "version": 3
   },
   "file_extension": ".py",
   "mimetype": "text/x-python",
   "name": "python",
   "nbconvert_exporter": "python",
   "pygments_lexer": "ipython3",
   "version": "3.7.0"
  }
 },
 "nbformat": 4,
 "nbformat_minor": 2
}
